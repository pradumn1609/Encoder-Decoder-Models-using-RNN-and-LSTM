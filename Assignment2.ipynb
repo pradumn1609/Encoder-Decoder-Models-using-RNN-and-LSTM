{
  "nbformat": 4,
  "nbformat_minor": 0,
  "metadata": {
    "colab": {
      "provenance": []
    },
    "kernelspec": {
      "name": "python3",
      "display_name": "Python 3"
    },
    "language_info": {
      "name": "python"
    }
  },
  "cells": [
    {
      "cell_type": "code",
      "execution_count": 1,
      "metadata": {
        "id": "RLVn5Yy7Xj_d"
      },
      "outputs": [],
      "source": [
        "import numpy as np\n",
        "import tensorflow as tf\n",
        "from tensorflow.keras.preprocessing.text import Tokenizer\n",
        "from tensorflow.keras.preprocessing.sequence import pad_sequences\n"
      ]
    },
    {
      "cell_type": "code",
      "source": [
        "sentence_pairs = [\n",
        "    [\"hi\", \"salut\"],\n",
        "    [\"how are you\", \"comment ça va\"],\n",
        "    [\"i am fine\", \"je vais bien\"],\n",
        "    [\"thank you\", \"merci\"],\n",
        "    [\"good morning\", \"bonjour\"]\n",
        "]"
      ],
      "metadata": {
        "id": "A47kG5AfX4A9"
      },
      "execution_count": 2,
      "outputs": []
    },
    {
      "cell_type": "code",
      "source": [
        "input_sentences = [pair[0] for pair in sentence_pairs]\n",
        "target_sentences = ['<start> ' + pair[1] + ' <end>' for pair in sentence_pairs]"
      ],
      "metadata": {
        "id": "0wDJOtDUYGiL"
      },
      "execution_count": 3,
      "outputs": []
    },
    {
      "cell_type": "code",
      "source": [
        "input_tokenizer = Tokenizer(filters='')\n",
        "input_tokenizer.fit_on_texts(input_sentences)\n",
        "\n",
        "input_tensor = input_tokenizer.texts_to_sequences(input_sentences)\n",
        "input_tensor = pad_sequences(input_tensor, padding='post')"
      ],
      "metadata": {
        "id": "pL-pkd-OYPfs"
      },
      "execution_count": 4,
      "outputs": []
    },
    {
      "cell_type": "code",
      "source": [
        "target_tokenizer = Tokenizer(filters='')\n",
        "target_tokenizer.fit_on_texts(target_sentences)\n",
        "\n",
        "target_tensor = target_tokenizer.texts_to_sequences(target_sentences)\n",
        "target_tensor = pad_sequences(target_tensor, padding='post')"
      ],
      "metadata": {
        "id": "XgA3d8JEYSla"
      },
      "execution_count": 5,
      "outputs": []
    },
    {
      "cell_type": "code",
      "source": [
        "print(\"Input tensor:\\n\", input_tensor)\n",
        "print(\"Target tensor:\\n\", target_tensor)\n",
        "\n",
        "input_vocab_size = len(input_tokenizer.word_index) + 1\n",
        "target_vocab_size = len(target_tokenizer.word_index) + 1\n",
        "\n",
        "print(\"Input vocab size:\", input_vocab_size)\n",
        "print(\"Target vocab size:\", target_vocab_size)\n"
      ],
      "metadata": {
        "colab": {
          "base_uri": "https://localhost:8080/"
        },
        "id": "mE4BOVXKYVy1",
        "outputId": "91ccde15-4c48-438a-8a38-3c3cb6b0ce8f"
      },
      "execution_count": 6,
      "outputs": [
        {
          "output_type": "stream",
          "name": "stdout",
          "text": [
            "Input tensor:\n",
            " [[ 2  0  0]\n",
            " [ 3  4  1]\n",
            " [ 5  6  7]\n",
            " [ 8  1  0]\n",
            " [ 9 10  0]]\n",
            "Target tensor:\n",
            " [[ 1  3  2  0  0]\n",
            " [ 1  4  5  6  2]\n",
            " [ 1  7  8  9  2]\n",
            " [ 1 10  2  0  0]\n",
            " [ 1 11  2  0  0]]\n",
            "Input vocab size: 11\n",
            "Target vocab size: 12\n"
          ]
        }
      ]
    },
    {
      "cell_type": "code",
      "source": [
        "embedding_dim = 256\n",
        "units = 512\n",
        "batch_size = 2"
      ],
      "metadata": {
        "id": "lhARNgk-YazG"
      },
      "execution_count": 7,
      "outputs": []
    },
    {
      "cell_type": "code",
      "source": [
        "BUFFER_SIZE = len(input_tensor)\n",
        "steps_per_epoch = BUFFER_SIZE // batch_size\n",
        "\n",
        "dataset = tf.data.Dataset.from_tensor_slices((input_tensor, target_tensor))\n",
        "dataset = dataset.shuffle(BUFFER_SIZE).batch(batch_size, drop_remainder=True)"
      ],
      "metadata": {
        "id": "hBXfKSC-YnCg"
      },
      "execution_count": 8,
      "outputs": []
    },
    {
      "cell_type": "code",
      "source": [
        "class Encoder(tf.keras.Model):\n",
        "    def __init__(self, vocab_size, embedding_dim, enc_units):\n",
        "        super(Encoder, self).__init__()\n",
        "        self.enc_units = enc_units\n",
        "        self.embedding = tf.keras.layers.Embedding(vocab_size, embedding_dim)\n",
        "        self.lstm = tf.keras.layers.LSTM(enc_units, return_sequences=True, return_state=True)\n",
        "\n",
        "    def call(self, x):\n",
        "        x = self.embedding(x)\n",
        "        output, state_h, state_c = self.lstm(x)\n",
        "        return output, state_h, state_c"
      ],
      "metadata": {
        "id": "VE0f4ERkYqxC"
      },
      "execution_count": 9,
      "outputs": []
    },
    {
      "cell_type": "code",
      "source": [
        "class Decoder(tf.keras.Model):\n",
        "    def __init__(self, vocab_size, embedding_dim, dec_units):\n",
        "        super(Decoder, self).__init__()\n",
        "        self.dec_units = dec_units\n",
        "        self.embedding = tf.keras.layers.Embedding(vocab_size, embedding_dim)\n",
        "        self.lstm = tf.keras.layers.LSTM(dec_units, return_sequences=True, return_state=True)\n",
        "        self.fc = tf.keras.layers.Dense(vocab_size)\n",
        "\n",
        "    def call(self, x, hidden, cell):\n",
        "        x = self.embedding(x)\n",
        "        output, state_h, state_c = self.lstm(x, initial_state=[hidden, cell])\n",
        "        output = self.fc(output)\n",
        "        return output, state_h, state_c\n"
      ],
      "metadata": {
        "id": "8UlKAjVfYwrt"
      },
      "execution_count": 10,
      "outputs": []
    },
    {
      "cell_type": "code",
      "source": [
        "encoder = Encoder(input_vocab_size, embedding_dim, units)\n",
        "decoder = Decoder(target_vocab_size, embedding_dim, units)"
      ],
      "metadata": {
        "id": "pS5yxnygY0Aw"
      },
      "execution_count": 11,
      "outputs": []
    },
    {
      "cell_type": "code",
      "source": [
        "loss_object = tf.keras.losses.SparseCategoricalCrossentropy(from_logits=True, reduction='none')\n",
        "\n",
        "def loss_function(real, pred):\n",
        "    mask = tf.math.not_equal(real, 0)\n",
        "    loss_ = loss_object(real, pred)\n",
        "    mask = tf.cast(mask, dtype=loss_.dtype)\n",
        "    loss_ *= mask\n",
        "    return tf.reduce_mean(loss_)"
      ],
      "metadata": {
        "id": "6obt6PcaY48m"
      },
      "execution_count": 12,
      "outputs": []
    },
    {
      "cell_type": "code",
      "source": [
        "optimizer = tf.keras.optimizers.Adam()"
      ],
      "metadata": {
        "id": "f5R3FGHsY_Jz"
      },
      "execution_count": 13,
      "outputs": []
    },
    {
      "cell_type": "code",
      "source": [
        "EPOCHS = 10\n",
        "epoch_losses = []\n",
        "\n",
        "for epoch in range(EPOCHS):\n",
        "    total_loss = 0\n",
        "\n",
        "    for (batch, (inp, targ)) in enumerate(dataset):\n",
        "        with tf.GradientTape() as tape:\n",
        "            enc_output, enc_hidden, enc_cell = encoder(inp)\n",
        "\n",
        "            dec_input = tf.expand_dims(targ[:, 0], 1)\n",
        "            dec_hidden, dec_cell = enc_hidden, enc_cell\n",
        "\n",
        "\n",
        "            for t in range(1, targ.shape[1]):\n",
        "                pred, dec_hidden, dec_cell = decoder(dec_input, dec_hidden, dec_cell)\n",
        "                loss = loss_function(targ[:, t], pred[:, 0, :])\n",
        "                total_loss += loss\n",
        "                dec_input = tf.expand_dims(targ[:, t], 1)\n",
        "\n",
        "\n",
        "        variables = encoder.trainable_variables + decoder.trainable_variables\n",
        "        gradients = tape.gradient(total_loss, variables)\n",
        "        optimizer.apply_gradients(zip(gradients, variables))\n",
        "\n",
        "    avg_loss = total_loss.numpy()\n",
        "    epoch_losses.append(avg_loss)\n",
        "    print(f\"Epoch {epoch+1} Loss {avg_loss:.4f}\")\n"
      ],
      "metadata": {
        "colab": {
          "base_uri": "https://localhost:8080/"
        },
        "id": "gexJ8sJTZDLT",
        "outputId": "c2162d0e-3975-4217-d762-edaa71d66e08"
      },
      "execution_count": 21,
      "outputs": [
        {
          "output_type": "stream",
          "name": "stdout",
          "text": [
            "Epoch 1 Loss 6.6018\n",
            "Epoch 2 Loss 6.8310\n",
            "Epoch 3 Loss 7.8651\n",
            "Epoch 4 Loss 7.5537\n",
            "Epoch 5 Loss 6.6548\n",
            "Epoch 6 Loss 6.0111\n",
            "Epoch 7 Loss 3.7518\n",
            "Epoch 8 Loss 2.6080\n",
            "Epoch 9 Loss 4.1955\n",
            "Epoch 10 Loss 3.2218\n"
          ]
        }
      ]
    },
    {
      "cell_type": "code",
      "source": [
        "reverse_input_word_index = {v: k for k, v in input_tokenizer.word_index.items()}\n",
        "reverse_target_word_index = {v: k for k, v in target_tokenizer.word_index.items()}\n",
        "target_word_index = target_tokenizer.word_index\n"
      ],
      "metadata": {
        "id": "VqozmeyCaOHR"
      },
      "execution_count": 22,
      "outputs": []
    },
    {
      "cell_type": "code",
      "source": [
        "def evaluate(sentence):\n",
        "    sentence_seq = input_tokenizer.texts_to_sequences([sentence])\n",
        "    sentence_seq = pad_sequences(sentence_seq, maxlen=input_tensor.shape[1], padding='post')\n",
        "\n",
        "    enc_output, enc_hidden, enc_cell = encoder(sentence_seq)\n",
        "\n",
        "    dec_input = tf.expand_dims([target_word_index['<start>']], 0)\n",
        "    dec_hidden, dec_cell = enc_hidden, enc_cell\n",
        "\n",
        "    result = []\n",
        "\n",
        "    for _ in range(target_tensor.shape[1]):\n",
        "        predictions, dec_hidden, dec_cell = decoder(dec_input, dec_hidden, dec_cell)\n",
        "        predicted_id = tf.argmax(predictions[0][0]).numpy()\n",
        "        predicted_word = reverse_target_word_index.get(predicted_id, '')\n",
        "\n",
        "        if predicted_word == '<end>':\n",
        "            break\n",
        "\n",
        "        result.append(predicted_word)\n",
        "        dec_input = tf.expand_dims([predicted_id], 0)\n",
        "\n",
        "    return ' '.join(result)"
      ],
      "metadata": {
        "id": "pTqdJhNzah_H"
      },
      "execution_count": 23,
      "outputs": []
    },
    {
      "cell_type": "code",
      "source": [
        "test_sentences = [\n",
        "    \"hi\",\n",
        "    \"how are you\",\n",
        "    \"i am fine\",\n",
        "    \"thank you\",\n",
        "    \"good morning\"\n",
        "]\n",
        "\n",
        "for sentence in test_sentences:\n",
        "    output = evaluate(sentence)\n",
        "    print(f\"Input: {sentence}\")\n",
        "    print(f\"Predicted Translation: {output}\")"
      ],
      "metadata": {
        "colab": {
          "base_uri": "https://localhost:8080/"
        },
        "id": "-rWSAtxGanKK",
        "outputId": "41fe6dc8-b4b1-4339-a61f-77c5ec7d5116"
      },
      "execution_count": 24,
      "outputs": [
        {
          "output_type": "stream",
          "name": "stdout",
          "text": [
            "Input: hi\n",
            "Predicted Translation: salut\n",
            "Input: how are you\n",
            "Predicted Translation: comment ça va\n",
            "Input: i am fine\n",
            "Predicted Translation: vais bien\n",
            "Input: thank you\n",
            "Predicted Translation: merci\n",
            "Input: good morning\n",
            "Predicted Translation: bonjour\n"
          ]
        }
      ]
    },
    {
      "cell_type": "code",
      "source": [
        "import matplotlib.pyplot as plt\n",
        "\n",
        "plt.plot(range(1, EPOCHS + 1), epoch_losses, marker='o')\n",
        "plt.title(\"Training Loss Over Epochs\")\n",
        "plt.xlabel(\"Epoch\")\n",
        "plt.ylabel(\"Loss\")\n",
        "plt.grid(True)\n",
        "plt.show()\n"
      ],
      "metadata": {
        "colab": {
          "base_uri": "https://localhost:8080/",
          "height": 472
        },
        "id": "iBjbIBkpart5",
        "outputId": "cb9a858a-2512-4848-cbab-248d118d753b"
      },
      "execution_count": 25,
      "outputs": [
        {
          "output_type": "display_data",
          "data": {
            "text/plain": [
              "<Figure size 640x480 with 1 Axes>"
            ],
            "image/png": "[encoded data removed]"
          },
          "metadata": {}
        }
      ]
    },
    {
      "cell_type": "code",
      "source": [],
      "metadata": {
        "id": "TW64skOScsZM"
      },
      "execution_count": null,
      "outputs": []
    }
  ]
}